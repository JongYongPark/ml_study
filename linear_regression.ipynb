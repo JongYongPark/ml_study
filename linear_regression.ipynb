{
  "nbformat": 4,
  "nbformat_minor": 0,
  "metadata": {
    "colab": {
      "name": "linear_regression.ipynb",
      "provenance": [],
      "include_colab_link": true
    },
    "kernelspec": {
      "name": "python3",
      "display_name": "Python 3"
    }
  },
  "cells": [
    {
      "cell_type": "markdown",
      "metadata": {
        "id": "view-in-github",
        "colab_type": "text"
      },
      "source": [
        "<a href=\"https://colab.research.google.com/github/JongYongPark/ml_study/blob/main/linear_regression.ipynb\" target=\"_parent\"><img src=\"https://colab.research.google.com/assets/colab-badge.svg\" alt=\"Open In Colab\"/></a>"
      ]
    },
    {
      "cell_type": "code",
      "metadata": {
        "id": "PnZAZszNMcrM",
        "colab": {
          "base_uri": "https://localhost:8080/",
          "height": 447
        },
        "outputId": "a01672b8-2115-4683-889a-d52179215661"
      },
      "source": [
        "import numpy as np\n",
        "import matplotlib.pyplot as plt\n",
        "\n",
        "# dataset generation\n",
        "data = np.zeros((100,2))\n",
        "\n",
        "print(  len(data) )\n",
        "for i in range(len(data)):\n",
        "  data[i][0] = 10*np.random.rand(1)\n",
        "  data[i][1] = 3*data[i,0] + 2 + np.random.rand(1)\n",
        "\n",
        "plt.scatter(data[:,0], data[:,1])\n",
        "plt.show()\n"
      ],
      "execution_count": 4,
      "outputs": [
        {
          "output_type": "stream",
          "name": "stdout",
          "text": [
            "100\n"
          ]
        },
        {
          "output_type": "display_data",
          "data": {
            "text/plain": [
              "<Figure size 640x480 with 1 Axes>"
            ],
            "image/png": "[encoded data removed]"
          },
          "metadata": {}
        }
      ]
    },
    {
      "cell_type": "code",
      "metadata": {
        "id": "NXQXZCTG9AqA",
        "colab": {
          "base_uri": "https://localhost:8080/",
          "height": 458
        },
        "outputId": "4681b583-ec8c-4b04-ae69-1da93120e601"
      },
      "source": [
        "# y = 3x + 2 --> y = ax + c : find a and c\n",
        "# error = true - pred\n",
        "# MSE loss = (true - pred)**2\n",
        "def loss_funcion (a,c):\n",
        "  return sum((y-a*x-c)**2 for x, y in data)\n",
        "\n",
        "def a_grad_loss(a,c):\n",
        "  return sum(2*(y-a*x-c)*(-x) for x,y in data )\n",
        "\n",
        "def c_grad_loss(a,c):\n",
        "  return sum(2*(y-a*x-c)*(-1) for x,y in data )\n",
        "\n",
        "a = 20.00001\n",
        "c = 20.00001\n",
        "lr= 0.0001 # learning rate\n",
        "\n",
        "for i in range(1000+1):\n",
        "  a = a - lr*a_grad_loss(a,c)\n",
        "  c = c - lr*c_grad_loss(a,c)\n",
        "  if i%100 == 0:\n",
        "    print('iteration:', i, 'loss=', loss_function(a,c), 'a=', a, 'c=', c)\n",
        "\n",
        "x_coor = []\n",
        "y_coor = []\n",
        "for i in range(100):\n",
        "  x_coor.append (i*0.1)\n",
        "  y_coor.append (a*x_coor[i] + c)\n",
        "\n",
        "plt.plot(x_coor, y_coor, 'r')\n",
        "plt.scatter(data[:,0], data[:,1])\n",
        "plt.show()"
      ],
      "execution_count": null,
      "outputs": [
        {
          "output_type": "stream",
          "text": [
            "iteration: 0 loss= tf.Tensor(2717.421143023798, shape=(), dtype=float64) a= 7.220033913771369 c= 19.235671440905975\n",
            "iteration: 100 loss= tf.Tensor(5.00105196408546, shape=(), dtype=float64) a= 1.495427427677153 c= 12.380657215597285\n",
            "iteration: 200 loss= tf.Tensor(19.071566390883962, shape=(), dtype=float64) a= 2.089760860907571 c= 8.480162209297719\n",
            "iteration: 300 loss= tf.Tensor(35.827169067838355, shape=(), dtype=float64) a= 2.4465445212612984 c= 6.138660271614419\n",
            "iteration: 400 loss= tf.Tensor(50.118713917472455, shape=(), dtype=float64) a= 2.66072493444033 c= 4.733035776436289\n",
            "iteration: 500 loss= tf.Tensor(60.531369581641805, shape=(), dtype=float64) a= 2.789299346575854 c= 3.8892268563379226\n",
            "iteration: 600 loss= tf.Tensor(67.51463342068904, shape=(), dtype=float64) a= 2.8664837128333653 c= 3.382680836344627\n",
            "iteration: 700 loss= tf.Tensor(71.98690532205826, shape=(), dtype=float64) a= 2.912818176243505 c= 3.078596743063016\n",
            "iteration: 800 loss= tf.Tensor(74.77620246587676, shape=(), dtype=float64) a= 2.9406331678487074 c= 2.89605234998275\n",
            "iteration: 900 loss= tf.Tensor(76.48910853777627, shape=(), dtype=float64) a= 2.957330755369019 c= 2.7864693228489283\n",
            "iteration: 1000 loss= tf.Tensor(77.53141544290936, shape=(), dtype=float64) a= 2.967354466069918 c= 2.720685654376942\n"
          ],
          "name": "stdout"
        },
        {
          "output_type": "display_data",
          "data": {
            "image/png": "[encoded data removed]",
            "text/plain": [
              "<Figure size 432x288 with 1 Axes>"
            ]
          },
          "metadata": {
            "tags": [],
            "needs_background": "light"
          }
        }
      ]
    },
    {
      "cell_type": "code",
      "metadata": {
        "id": "XnkcEiytHjz0",
        "colab": {
          "base_uri": "https://localhost:8080/",
          "height": 458
        },
        "outputId": "a62dc9be-ba48-4644-dc6e-eddd26d8e6e1"
      },
      "source": [
        "import tensorflow as tf\n",
        "\n",
        "a = tf.Variable(initial_value=20.001)\n",
        "c = tf.Variable(initial_value=20.001)\n",
        "\n",
        "x = data[:,0]\n",
        "y = data[:,1]\n",
        "\n",
        "def loss_function(x,y):\n",
        "  pred = a*x+c\n",
        "  return tf.reduce_mean(tf.math.square(y - pred))\n",
        "\n",
        "optimizer = tf.optimizers.SGD(0.0001)\n",
        "\n",
        "def train():\n",
        "  with tf.GradientTape() as g:\n",
        "    loss = loss_function(x,y)\n",
        "  gradients = g.gradient(loss, [a,c])\n",
        "  optimizer.apply_gradients(zip(gradients, [a,c]))\n",
        "\n",
        "for i in range(10000+1):\n",
        "  x = data[:,0]\n",
        "  y = data[:,1]\n",
        "\n",
        "  train()\n",
        "\n",
        "  if i%1000 == 0:\n",
        "    loss = loss_function(x,y)\n",
        "    print('iteration: ', i, 'loss=', loss, 'a=', a.numpy(), 'c=', c.numpy())\n",
        "\n",
        "x_coor = []\n",
        "y_coor = []\n",
        "a = a.numpy()\n",
        "c = c.numpy()\n",
        "for i in range(100):\n",
        "  x_coor.append (i*0.1)\n",
        "  y_coor.append (a*x_coor[i] + c)\n",
        "\n",
        "plt.plot(x_coor, y_coor, 'r')\n",
        "plt.scatter(data[:,0], data[:,1])\n",
        "plt.show()\n"
      ],
      "execution_count": null,
      "outputs": [
        {
          "output_type": "stream",
          "text": [
            "iteration:  0 loss= tf.Tensor(12465.178, shape=(), dtype=float32) a= 19.873192 c= 19.980785\n",
            "iteration:  1000 loss= tf.Tensor(48.554794, shape=(), dtype=float32) a= 0.91258305 c= 16.36873\n",
            "iteration:  2000 loss= tf.Tensor(43.9093, shape=(), dtype=float32) a= 0.9910104 c= 15.69276\n",
            "iteration:  3000 loss= tf.Tensor(39.72501, shape=(), dtype=float32) a= 1.0883999 c= 15.053334\n",
            "iteration:  4000 loss= tf.Tensor(35.940086, shape=(), dtype=float32) a= 1.1810542 c= 14.445192\n",
            "iteration:  5000 loss= tf.Tensor(32.516403, shape=(), dtype=float32) a= 1.2691758 c= 13.866797\n",
            "iteration:  6000 loss= tf.Tensor(29.419493, shape=(), dtype=float32) a= 1.3529872 c= 13.316697\n",
            "iteration:  7000 loss= tf.Tensor(26.618198, shape=(), dtype=float32) a= 1.4326978 c= 12.793512\n",
            "iteration:  8000 loss= tf.Tensor(24.084263, shape=(), dtype=float32) a= 1.5085094 c= 12.295918\n",
            "iteration:  9000 loss= tf.Tensor(21.792194, shape=(), dtype=float32) a= 1.5806121 c= 11.82267\n",
            "iteration:  10000 loss= tf.Tensor(19.71888, shape=(), dtype=float32) a= 1.6491873 c= 11.372569\n"
          ],
          "name": "stdout"
        },
        {
          "output_type": "display_data",
          "data": {
            "image/png": "[encoded data removed]",
            "text/plain": [
              "<Figure size 432x288 with 1 Axes>"
            ]
          },
          "metadata": {
            "tags": [],
            "needs_background": "light"
          }
        }
      ]
    },
    {
      "cell_type": "code",
      "metadata": {
        "id": "z49RDq700Sm0",
        "colab": {
          "base_uri": "https://localhost:8080/",
          "height": 458
        },
        "outputId": "85043f43-6231-4dc0-ebb8-4e0f79a66c31"
      },
      "source": [
        "import torch\n",
        "import torch.nn as nn\n",
        "import torch.nn.functional as F\n",
        "\n",
        "class Linear_Regression(nn.Module):\n",
        "    def __init__(self):\n",
        "        super().__init__()\n",
        "        self.linear = nn.Linear(1, 1) # 단일 선형 회귀이므로 input_dim=1, output_dim=1.\n",
        "\n",
        "    def forward(self, x):\n",
        "        return self.linear(x)\n",
        "\n",
        "x = []\n",
        "y = []\n",
        "\n",
        "for i in range(len(data)):\n",
        "\n",
        "  lx = []\n",
        "  ly = []\n",
        "  for j in range(1):\n",
        "    lx.append(data[i,0])\n",
        "    ly.append(data[i,1])\n",
        "  x.append (lx)\n",
        "  y.append (ly)\n",
        "\n",
        "in_x = torch.FloatTensor(x)\n",
        "in_y = torch.FloatTensor(y)\n",
        "\n",
        "model = Linear_Regression()\n",
        "optimizer = torch.optim.SGD(model.parameters(), lr=0.0001)\n",
        "weight = []\n",
        "\n",
        "for i in range(1000+1):\n",
        "  pred = model(in_x)\n",
        "  loss = F.mse_loss(pred, in_y)\n",
        "  optimizer.zero_grad()\n",
        "  loss.backward()\n",
        "  optimizer.step()\n",
        "  if i%100 == 0:\n",
        "    for param in model.parameters():\n",
        "      weight.append (param.data)\n",
        "    print('iteration:', i, 'loss=', loss, 'param=', weight[0], weight[1])\n",
        "\n",
        "x_coor = []\n",
        "y_coor = []\n",
        "a = weight[0]\n",
        "c = weight[1]\n",
        "for i in range(100):\n",
        "  x_coor.append (i*0.1)\n",
        "  y_coor.append (a*x_coor[i] + c)\n",
        "\n",
        "plt.plot(x_coor, y_coor, 'r')\n",
        "plt.scatter(data[:,0], data[:,1])\n",
        "plt.show()"
      ],
      "execution_count": null,
      "outputs": [
        {
          "output_type": "stream",
          "text": [
            "iteration: 0 loss= tensor(393.6485, grad_fn=<MseLossBackward>) param= tensor([[-0.0024]]) tensor([-0.4211])\n",
            "iteration: 100 loss= tensor(104.7832, grad_fn=<MseLossBackward>) param= tensor([[1.6374]]) tensor([-0.1583])\n",
            "iteration: 200 loss= tensor(28.7935, grad_fn=<MseLossBackward>) param= tensor([[2.4775]]) tensor([-0.0174])\n",
            "iteration: 300 loss= tensor(8.7948, grad_fn=<MseLossBackward>) param= tensor([[2.9074]]) tensor([0.0609])\n",
            "iteration: 400 loss= tensor(3.5231, grad_fn=<MseLossBackward>) param= tensor([[3.1270]]) tensor([0.1071])\n",
            "iteration: 500 loss= tensor(2.1249, grad_fn=<MseLossBackward>) param= tensor([[3.2387]]) tensor([0.1368])\n",
            "iteration: 600 loss= tensor(1.7457, grad_fn=<MseLossBackward>) param= tensor([[3.2950]]) tensor([0.1581])\n",
            "iteration: 700 loss= tensor(1.6347, grad_fn=<MseLossBackward>) param= tensor([[3.3230]]) tensor([0.1749])\n",
            "iteration: 800 loss= tensor(1.5942, grad_fn=<MseLossBackward>) param= tensor([[3.3365]]) tensor([0.1894])\n",
            "iteration: 900 loss= tensor(1.5725, grad_fn=<MseLossBackward>) param= tensor([[3.3425]]) tensor([0.2028])\n",
            "iteration: 1000 loss= tensor(1.5558, grad_fn=<MseLossBackward>) param= tensor([[3.3447]]) tensor([0.2155])\n"
          ],
          "name": "stdout"
        },
        {
          "output_type": "display_data",
          "data": {
            "image/png": "[encoded data removed]",
            "text/plain": [
              "<Figure size 432x288 with 1 Axes>"
            ]
          },
          "metadata": {
            "tags": [],
            "needs_background": "light"
          }
        }
      ]
    },
    {
      "cell_type": "code",
      "metadata": {
        "id": "uqOOJ9w7Kh2E"
      },
      "source": [],
      "execution_count": null,
      "outputs": []
    }
  ]
}